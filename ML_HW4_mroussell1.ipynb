{
 "cells": [
  {
   "cell_type": "markdown",
   "metadata": {},
   "source": [
    "# Homework 4\n",
    "\n",
    "Michael Roussell\n",
    "\n",
    "GSU CSC 4370\n",
    "\n",
    "Fall 2021\n",
    "\n",
    "#### NOTE: All python work was done in Python 3.8.12, so please use the linux/unix version of the interpritor for the most accurate results. \n",
    "---------------------------------------"
   ]
  },
  {
   "cell_type": "markdown",
   "metadata": {},
   "source": [
    "## Question 1\n"
   ]
  },
  {
   "cell_type": "markdown",
   "metadata": {},
   "source": [
    "### a)\n",
    "\n",
    "#### Conditional Probability:\n",
    "\n",
    "    P(A|B) = P(A and B) / P(B)\n",
    "\n",
    "Where A and B are events, P(A|B) is the conditional probabilty of A given B, P(A and B) or joint probability is the probability that both A and B occur, and P(B) is the marginal probabilty that even B will occur.\n",
    "\n",
    "Conditional Probability can be explained as the probability of an event occuring given another event has occured, either by assumption, presumption, assertion or evidence. \n",
    "There is an event of interest and an event of known or assumed occurance.\n",
    "And given this we say that P(A|B) is the probabilty of A given B.\n",
    "\n",
    "An example of conditional probability is the probability of a person in a sample set having brown eyes, given that person has brown hair. \n",
    "Here A is defined as the event of interest to be having brown eyes, and the known event B is having brown here.\n",
    "\n",
    "#### Marginal Probability:\n",
    "\n",
    "    P(A)\n",
    "\n",
    "Where A and an event and P() is the probability function for that even occuring. \n",
    "\n",
    "Marginal Probabilty can be explained as unconditional probabilty. \n",
    "It does not have the condition of any other event occuring to find the probability in other words.\n",
    "\n",
    "An example of marginal probability is in a standard deck of playing card a drawing a red card, this gives P(red)=1/2=.5.\n",
    "Another example again with a standard deck of cards is drawing an Ace, P(ace)=1/13.\n",
    "\n",
    "#### Joint Probability:\n",
    "\n",
    "    P(A and B)\n",
    "\n",
    "Where A and B are seperate events and P() is the probabilty function for that even occuring.\n",
    "\n",
    "Joint Probability can b explained as the probabilty of A and B occuring or the intersection of the sets of these events occuring.\n",
    "Join Probabilty can also have more than 2 events listed and thus is hte intersection of A, B, and C occuring.\n",
    "\n",
    "And example of Joint Probabilty is for a standard deck of cards, the probabilty of drawing a red card that is a 4.\n",
    "This gives P(red and 4) = 2/26 = 1/13."
   ]
  },
  {
   "cell_type": "markdown",
   "metadata": {},
   "source": [
    "### b)\n",
    "\n",
    "#### Baye's Rule (Baye's Theorem)\n",
    "\n",
    "    P(A|B) = (P(B|A)*P(A))/P(B)\n",
    "\n",
    "Where A and B are seperate events, P() is the probability function for that event, P(A|B) is Conditional Probability, B|A is Conditional Probability, P(A) is a marginal probability, and P(B) is a marginal probability.\n",
    "Bayes Theorem describes the probabiility based on conditional probability of known events.\n",
    "\n",
    "    P(B|A)=L(A|B)\n",
    "\n",
    "P(B|A) in Baye's theorem is is known as likelihood, said as likelihood of A given fixed B.\n",
    "\n",
    "    P(A|B)\n",
    "\n",
    "This is the posterior probabiltiy, in this context it means that the every part of prior knowledge must be evaulated to evalute A given B.\n",
    "\n",
    "    P(A) and P(B)\n",
    "\n",
    "These are the prior probabilities, in this context these must be evaluated to calcuate the posterior probability.\n",
    "Both of these are marginal probabilities.\n",
    "\n",
    "Here is a simple Proof from the definition of Conditional Probability:\n",
    "\n",
    "\n",
    "If P(B)=/=0, then\n",
    "\n",
    "    P(A|B) = P(A and B) / P(B)\n",
    "\n",
    "where P(A and B) is the joint probability of both A and B being true,\n",
    "\n",
    "and if P(A)=/=0\n",
    "\n",
    "    P(B|A) = P(A and B) / P(A)\n",
    "\n",
    "Now, solving for P(A and B)\n",
    "\n",
    "    P(B|A)*P(A) = P(A and B)\n",
    "    P(A|B)*P(B) = P(B|A)*P(A)\n",
    "\n",
    "where P(B)=/=0.\n",
    "\n",
    "Hence,\n",
    "\n",
    "    P(A|B) = (P(B|A)*P(A))/P(B)\n",
    " "
   ]
  },
  {
   "cell_type": "markdown",
   "metadata": {},
   "source": [
    "### c)\n",
    "\n",
    "Some background is required, when considering Naives Baye's Algorithm. \n",
    "Firstly, Baye's Theorem as proven above is the base for these thoughts.\n",
    "Second, there are some assumptions made.\n",
    "Assume that each feature makes both an equal and independent contribution to the outcome.\n",
    "Now we can rewrite Baye's Theorem as such:\n",
    "\n",
    "    P(y|X) = (P(X|y)P(y)) / P(X)\n",
    "\n",
    "where y is a target variable and X is a collection or set or collection of the parameters such that,\n",
    "\n",
    "    X = {x_1, x_2, ... , x_n} = (x_1, x_2, ... , x_n) \n",
    "\n",
    "Then we can inject X which gives,\n",
    "\n",
    "    P(y|X) = P(y|x_1,...,x_n) = P(y) \\PI P(x_i|y)\n",
    "\n",
    "\n",
    "Naive Baye's Algorithm:\n",
    "\n",
    "    1. First calculate frequency tables for each attribute against the target.\n",
    "    2. Next, convert these tables into likelihood tables by placing the given outcome frequency under the other frequencies.\n",
    "    3. Lastly, use the derived equation to calculate the posterior probability."
   ]
  },
  {
   "cell_type": "markdown",
   "metadata": {},
   "source": [
    "---------------------------------------\n",
    "## Question 2\n",
    "\n",
    "### Performing Naives Baye's "
   ]
  },
  {
   "cell_type": "code",
   "execution_count": 47,
   "metadata": {},
   "outputs": [],
   "source": [
    "import pandas\n",
    "from sklearn.model_selection import train_test_split\n",
    "from sklearn.naive_bayes import GaussianNB"
   ]
  },
  {
   "cell_type": "code",
   "execution_count": 66,
   "metadata": {},
   "outputs": [
    {
     "name": "stdout",
     "output_type": "stream",
     "text": [
      "[1 1 0 1 1]\n",
      "2    1\n",
      "8    0\n",
      "4    1\n",
      "9    1\n",
      "1    0\n",
      "Name: Stolen, dtype: int64\n"
     ]
    }
   ],
   "source": [
    "# Gather Given Table\n",
    "df = pandas.read_csv('problem2.csv')\n",
    "\n",
    "# Spereate into X and y features\n",
    "y = df['Stolen']\n",
    "X = df.drop('Stolen', axis=1)\n",
    "\n",
    "# Map Yes and No to 1 and 0\n",
    "y = y.map({'Yes': 1, 'No': 0})\n",
    "\n",
    "# Map Yes and Ns for X's\n",
    "X['Color'] = X['Color'].map({'Red': 1, 'Yellow': 0})\n",
    "X['Type'] = X['Type'].map({'Sports': 1, 'SUV': 0})\n",
    "X['Origin'] = X['Origin'].map({'Domestic': 1, 'Imported': 0})\n",
    "\n",
    "# Split into test and Train sections.\n",
    "X_train, X_test, y_train, y_test = train_test_split(X, y, test_size=0.5, random_state=0)\n",
    "\n",
    "# # Create Navie Baye's object and y_pred\n",
    "gnb = GaussianNB()\n",
    "y_pred = gnb.fit(X_train, y_train).predict(X_test)\n",
    "print(y_pred)\n",
    "print(y_test)"
   ]
  },
  {
   "cell_type": "markdown",
   "metadata": {},
   "source": [
    "---------------------------------------\n",
    "## Question 3\n",
    "\n",
    "### Performing Naives Baye's "
   ]
  },
  {
   "cell_type": "code",
   "execution_count": 49,
   "metadata": {},
   "outputs": [],
   "source": [
    "import matplotlib.pyplot as plt\n",
    "import seaborn as sn\n",
    "import numpy as np\n",
    "import pandas as pd\n",
    "from sklearn.preprocessing import StandardScaler\n",
    "from sklearn import preprocessing\n",
    "from sklearn.naive_bayes import GaussianNB\n",
    "from sklearn.model_selection import train_test_split\n",
    "from sklearn.metrics import accuracy_score, confusion_matrix, log_loss, precision_score"
   ]
  },
  {
   "cell_type": "code",
   "execution_count": 50,
   "metadata": {},
   "outputs": [],
   "source": [
    "df = pandas.read_csv('problem3.csv')"
   ]
  },
  {
   "cell_type": "code",
   "execution_count": 51,
   "metadata": {},
   "outputs": [],
   "source": [
    "#DATA PROCESSING:\n",
    "lab = preprocessing.LabelEncoder()\n",
    "\n",
    "# Converting string labels into numbers.\n",
    "income_encoded = lab.fit_transform(df['income'])\n",
    "df['income'] = income_encoded\n",
    "\n",
    "native_country_encoded = lab.fit_transform(df['native_country'])\n",
    "df['native_country'] = native_country_encoded\n",
    "\n",
    "sex_encoded = lab.fit_transform(df['sex'])\n",
    "df['sex'] = sex_encoded\n",
    "\n",
    "race_encoded = lab.fit_transform(df['race'])\n",
    "df['race'] = race_encoded\n",
    "\n",
    "relationship_encoded = lab.fit_transform(df['relationship'])\n",
    "df['relationship'] = relationship_encoded\n",
    "\n",
    "occupation_encoded = lab.fit_transform(df['occupation'])\n",
    "df['occupation'] = occupation_encoded\n",
    "\n",
    "marital_status_encoded = lab.fit_transform(df['marital_status'])\n",
    "df['marital_status'] = marital_status_encoded\n",
    "\n",
    "education_encoded = lab.fit_transform(df['education'])\n",
    "df['education'] = education_encoded\n",
    "\n",
    "workclass_encoded = lab.fit_transform(df['workclass'])\n",
    "df['workclass'] = workclass_encoded\n",
    "\n",
    "\n",
    "# target variable label\n",
    "target_label = df['income']\n",
    "\n",
    "# separated feature  set labels\n",
    "feature_labels = df.drop(['income'], axis=1)"
   ]
  },
  {
   "cell_type": "code",
   "execution_count": 52,
   "metadata": {},
   "outputs": [],
   "source": [
    "#train test ratio 70 30\n",
    "x_train, x_test, y_train, y_test = train_test_split(feature_labels, target_label, test_size=0.30, random_state=0)\n",
    "\n",
    "#Create a Gaussian Classifier\n",
    "gnb = GaussianNB()\n",
    "\n",
    "# Train the model using the training sets\n",
    "gnb.fit(x_train,y_train)\n",
    "\n",
    "#Predict Output\n",
    "y_pred = gnb.predict(x_test)\n",
    "\n",
    "#confusion matrix\n",
    "y_pred = np.array(y_pred)\n",
    "y_test = np.array(y_test)\n"
   ]
  },
  {
   "cell_type": "code",
   "execution_count": 53,
   "metadata": {},
   "outputs": [],
   "source": [
    "# Get Confusion Matrix \n",
    "matrix = confusion_matrix(y_pred, y_test)\n",
    "TN = matrix[0][0]\n",
    "FP = matrix[0][1]\n",
    "FN = matrix[1][0]\n",
    "TP = matrix[1][1]\n",
    "\n",
    "accuracy = accuracy_score(y_pred, y_test)\n",
    "recall = TP/(TP+FN)\n",
    "precision = TP/(TP+FP)\n",
    "f1 = (2*precision*recall)/precision+recall"
   ]
  },
  {
   "cell_type": "markdown",
   "metadata": {},
   "source": [
    "### 1.\n",
    "\n",
    "____________"
   ]
  },
  {
   "cell_type": "code",
   "execution_count": 54,
   "metadata": {},
   "outputs": [
    {
     "name": "stdout",
     "output_type": "stream",
     "text": [
      "[[7073 1581]\n",
      " [ 381  733]]\n",
      "Accuracy Score:  0.7991400491400491\n"
     ]
    }
   ],
   "source": [
    "print(matrix)\n",
    "print(\"Accuracy Score: \", accuracy)"
   ]
  },
  {
   "cell_type": "markdown",
   "metadata": {},
   "source": [
    "### 2. \n",
    "____________"
   ]
  },
  {
   "cell_type": "code",
   "execution_count": 55,
   "metadata": {},
   "outputs": [
    {
     "name": "stdout",
     "output_type": "stream",
     "text": [
      "TN:  7073\n",
      "FP:  1581\n",
      "FN:  381\n",
      "TP:  733\n"
     ]
    }
   ],
   "source": [
    "print(\"TN: \", TN)\n",
    "print(\"FP: \", FP)\n",
    "print(\"FN: \", FN)\n",
    "print(\"TP: \", TP)"
   ]
  },
  {
   "cell_type": "markdown",
   "metadata": {},
   "source": [
    "### 3.\n",
    "__________"
   ]
  },
  {
   "cell_type": "code",
   "execution_count": 56,
   "metadata": {},
   "outputs": [
    {
     "data": {
      "image/png": "[encoded data removed]",
      "text/plain": [
       "<Figure size 432x288 with 2 Axes>"
      ]
     },
     "metadata": {
      "needs_background": "light"
     },
     "output_type": "display_data"
    }
   ],
   "source": [
    "sn.heatmap(matrix, annot=True)\n",
    "plt.show()"
   ]
  },
  {
   "cell_type": "markdown",
   "metadata": {},
   "source": [
    "### 4.\n",
    "__________"
   ]
  },
  {
   "cell_type": "code",
   "execution_count": 57,
   "metadata": {},
   "outputs": [
    {
     "name": "stdout",
     "output_type": "stream",
     "text": [
      "Precision:  0.3167675021607606\n",
      "Recall:  0.6579892280071813\n",
      "F1-Score:  1.9739676840215439\n"
     ]
    }
   ],
   "source": [
    "print(\"Precision: \", precision)\n",
    "print(\"Recall: \", recall)\n",
    "print(\"F1-Score: \", f1)"
   ]
  },
  {
   "cell_type": "markdown",
   "metadata": {},
   "source": [
    "### 5.\n",
    "__________"
   ]
  },
  {
   "cell_type": "code",
   "execution_count": 58,
   "metadata": {},
   "outputs": [
    {
     "name": "stdout",
     "output_type": "stream",
     "text": [
      "Probabilities:  [[9.83150926e-01 1.68490744e-02]\n",
      " [9.83200557e-01 1.67994426e-02]\n",
      " [9.98348409e-01 1.65159068e-03]\n",
      " ...\n",
      " [5.18796326e-59 1.00000000e+00]\n",
      " [9.87644251e-01 1.23557494e-02]\n",
      " [9.89705699e-01 1.02943012e-02]]\n"
     ]
    },
    {
     "data": {
      "image/png": "[encoded data removed]",
      "text/plain": [
       "<Figure size 432x288 with 1 Axes>"
      ]
     },
     "metadata": {
      "needs_background": "light"
     },
     "output_type": "display_data"
    }
   ],
   "source": [
    "# Class probabilities in test set\n",
    "prob = gnb.predict_proba(x_test)\n",
    "print(\"Probabilities: \", prob)\n",
    "\n",
    "#separate dataframe by class labels '<=50k' and '>50k'\n",
    "less_than_50k = df.loc[df['income'] == 0]\n",
    "greater_than_50k = df.loc[df['income'] == 1]\n",
    "\n",
    "# <=50K:\n",
    "#saved target variable columns\n",
    "target_label = less_than_50k['income']\n",
    "#separated feature labels\n",
    "feature_labels = less_than_50k.drop(['income'], axis=1)\n",
    "\n",
    "#train test ratio 70 30\n",
    "x_train, x_test, y_train, y_test = train_test_split(feature_labels, target_label, test_size=0.30, random_state=0)\n",
    "\n",
    "less_than_50k_proba = gnb.predict_proba(x_test)\n",
    "\n",
    "plt.title(\"<=50k\")\n",
    "plt.hist(less_than_50k_proba)\n",
    "plt.show()"
   ]
  },
  {
   "cell_type": "code",
   "execution_count": 59,
   "metadata": {},
   "outputs": [
    {
     "data": {
      "image/png": "[encoded data removed]",
      "text/plain": [
       "<Figure size 432x288 with 1 Axes>"
      ]
     },
     "metadata": {
      "needs_background": "light"
     },
     "output_type": "display_data"
    }
   ],
   "source": [
    "# >50K:\n",
    "#saved target variable columns\n",
    "target_label = greater_than_50k['income']\n",
    "#separated feature labels\n",
    "feature_labels = greater_than_50k.drop(['income'], axis=1)\n",
    "\n",
    "#train test ratio 70 30\n",
    "x_train, x_test, y_train, y_test = train_test_split(feature_labels, target_label, test_size=0.30, random_state=0)\n",
    "\n",
    "greater_than_50k_proba = gnb.predict_proba(x_test)\n",
    "\n",
    "plt.title(\">50k\")\n",
    "plt.hist(greater_than_50k_proba)\n",
    "plt.show()"
   ]
  }
 ],
 "metadata": {
  "interpreter": {
   "hash": "e5ad4ec4618a83889263d3f794e51062bfc460073dd206ee74e7c0442d4def3b"
  },
  "kernelspec": {
   "display_name": "Python 3.9.7 64-bit ('base': conda)",
   "language": "python",
   "name": "python3"
  },
  "language_info": {
   "codemirror_mode": {
    "name": "ipython",
    "version": 3
   },
   "file_extension": ".py",
   "mimetype": "text/x-python",
   "name": "python",
   "nbconvert_exporter": "python",
   "pygments_lexer": "ipython3",
   "version": "3.8.8"
  },
  "orig_nbformat": 4
 },
 "nbformat": 4,
 "nbformat_minor": 2
}
